{
 "cells": [
  {
   "cell_type": "markdown",
   "metadata": {},
   "source": [
    "# Reinforcement Learning"
   ]
  },
  {
   "cell_type": "code",
   "execution_count": 2,
   "metadata": {},
   "outputs": [],
   "source": [
    "import numpy as np\n",
    "import matplotlib.pyplot as plt\n",
    "import seaborn as sns\n",
    "import pandas as pd\n",
    "from matplotlib.colors import ListedColormap\n",
    "cmap = ListedColormap(['red', 'blue'])"
   ]
  },
  {
   "cell_type": "markdown",
   "metadata": {},
   "source": [
    "## Value iteration"
   ]
  },
  {
   "cell_type": "code",
   "execution_count": 736,
   "metadata": {},
   "outputs": [
    {
     "data": {
      "text/plain": [
       "(array([[[0.47771845, 0.34999966, 0.95836597],\n",
       "         [0.65621449, 0.33111871, 0.02016926]],\n",
       " \n",
       "        [[0.0539686 , 0.73936713, 0.43574051],\n",
       "         [0.38985803, 0.16834621, 0.56604338]],\n",
       " \n",
       "        [[0.63544737, 0.48496635, 0.31428714],\n",
       "         [0.95576905, 0.45584368, 0.20449484]]]),\n",
       " array([[ 1.82857011, -0.10565357],\n",
       "        [ 0.93149122,  2.7080043 ],\n",
       "        [ 0.07425485, -2.04037313]]),\n",
       " array([ 0.11640284, -0.64767836, -0.72469231]))"
      ]
     },
     "execution_count": 736,
     "metadata": {},
     "output_type": "execute_result"
    }
   ],
   "source": [
    "S1 = 0\n",
    "S2 = 1\n",
    "S3 = 2\n",
    "\n",
    "states = [S1, S2, S3]\n",
    "\n",
    "A1 = 0\n",
    "A2 = 1\n",
    "\n",
    "actions = [A1, A2]\n",
    "\n",
    "V = np.random.uniform(-1, 1, len(states))\n",
    "Q = np.random.randn(len(states), len(actions))\n",
    "gamma = 0.8\n",
    "\n",
    "P = np.random.uniform(0, 1, size=(len(states), len(actions), len(states)))\n",
    "P / P.sum(axis=2)[..., None]\n",
    "r = np.random.uniform(-3, 3, size=(len(states), len(actions)))\n",
    "\n",
    "P, r, V"
   ]
  },
  {
   "cell_type": "code",
   "execution_count": 737,
   "metadata": {},
   "outputs": [],
   "source": [
    "while True:\n",
    "    V_ = np.copy(V)\n",
    "    for s in states:\n",
    "        for a in actions:\n",
    "            Q[s, a] = r[s, a] + gamma * (P[s, a] @ V)\n",
    "        V[s] = np.max(Q[s])\n",
    "    \n",
    "    V = V / V.sum()\n",
    "    if np.max(np.abs(V - V_)) < 1e-4:\n",
    "        break"
   ]
  },
  {
   "cell_type": "code",
   "execution_count": 738,
   "metadata": {},
   "outputs": [
    {
     "data": {
      "text/plain": [
       "(array([[2.28912959, 0.14976342],\n",
       "        [1.3883834 , 3.62124188],\n",
       "        [2.72217859, 1.08209239]]),\n",
       " array([0.2651742 , 0.41948693, 0.31533887]))"
      ]
     },
     "execution_count": 738,
     "metadata": {},
     "output_type": "execute_result"
    }
   ],
   "source": [
    "Q, V"
   ]
  },
  {
   "cell_type": "code",
   "execution_count": 766,
   "metadata": {},
   "outputs": [],
   "source": [
    "S_facebook = 0\n",
    "S_class1   = 1\n",
    "S_class2   = 2\n",
    "S_class3   = 3\n",
    "S_sleep    = 4\n",
    "\n",
    "A_study    = 0\n",
    "A_facebook = 1\n",
    "A_sleep    = 2\n",
    "A_pub      = 3\n",
    "\n",
    "R = np.array([\n",
    "    #  A1 A2 A3 A4\n",
    "    [  0, -1, 0, 0],    # S_facebook \n",
    "    [ -2, -1, 0, 0],    # S_class1\n",
    "    [ -2,  0, 0, 0],    # S_class2\n",
    "    [ 10,  0, 0, 1],    # S_class3\n",
    "    [  0,  0, 0, 0]     # S_sleep\n",
    "])\n",
    "\n",
    "gamma = 1\n",
    "\n",
    "P = np.array([\n",
    "    # S_facebook\n",
    "    [\n",
    "        [0, 1, 0, 0, 0],   # A_study\n",
    "        [1, 0, 0, 0, 0],   # A_facebook\n",
    "        [0, 1, 0, 0, 0],   # A_sleep\n",
    "        [0, 1, 0, 0, 0],   # A_pub\n",
    "    ],\n",
    "    # S_class1\n",
    "    [\n",
    "        [0, 0, 1, 0, 0],   # A_study\n",
    "        [1, 0, 0, 0, 0],   # A_facebook\n",
    "        [0, 1, 0, 0, 0],   # A_sleep\n",
    "        [0, 1, 0, 0, 0],   # A_pub\n",
    "    ],\n",
    "    # S_class2\n",
    "    [\n",
    "        [0, 0, 0, 1, 0],   # A_study\n",
    "        [0, 0, 1, 0, 0],   # A_facebook\n",
    "        [0, 0, 0, 0, 1],   # A_sleep\n",
    "        [0, 0, 1, 0, 0],   # A_pub\n",
    "    ],\n",
    "    # S_class3\n",
    "    [\n",
    "        [0, 0, 0, 0, 1],   # A_study\n",
    "        [0, 0, 0, 1, 0],   # A_facebook\n",
    "        [0, 0, 0, 1, 0],   # A_sleep\n",
    "        [0, 0.2, 0.4, 0.4, 0],   # A_pub\n",
    "    ],\n",
    "    # S_sleep\n",
    "    [\n",
    "        [0, 0, 0, 0, 1],   # A_study\n",
    "        [0, 0, 0, 0, 1],   # A_facebook\n",
    "        [0, 0, 0, 0, 1],   # A_sleep\n",
    "        [0, 0, 0, 0, 1],   # A_pub\n",
    "    ]\n",
    "])\n",
    "\n",
    "V = np.random.uniform(-1, 1, 5)\n",
    "Q = np.random.randn(5, 4)"
   ]
  },
  {
   "cell_type": "code",
   "execution_count": 767,
   "metadata": {},
   "outputs": [],
   "source": [
    "while True:\n",
    "    V_ = np.copy(V)\n",
    "    for s in states:\n",
    "        for a in actions:\n",
    "            Q[s, a] = r[s, a] + gamma * (P[s, a] @ V)\n",
    "        V[s] = np.max(Q[s])\n",
    "    \n",
    "    V = V / V.sum()\n",
    "    if np.max(np.abs(V - V_)) < 1e-4:\n",
    "        break"
   ]
  },
  {
   "cell_type": "code",
   "execution_count": 773,
   "metadata": {},
   "outputs": [
    {
     "data": {
      "text/plain": [
       "(array([[ 2.42622452,  0.17678053,  0.02090264,  1.97785161],\n",
       "        [ 1.05143407,  5.13422882,  1.22592037, -0.13294623],\n",
       "        [ 0.07424547, -1.92043027,  0.16646628,  1.03040872],\n",
       "        [-0.20697871,  0.67664511, -0.24400337, -1.93507088],\n",
       "        [-1.28371123, -0.14703773,  0.06815127, -1.18005021]]),\n",
       " array([0, 1, 3, 1, 2], dtype=int64),\n",
       " array([ 2.82420246e-01,  5.97640553e-01,  1.19942850e-01, -1.09239976e-06,\n",
       "        -2.55671477e-06]))"
      ]
     },
     "execution_count": 773,
     "metadata": {},
     "output_type": "execute_result"
    }
   ],
   "source": [
    "Q, Q.argmax(axis=1), V\n",
    "# Q[S_class1, A_study]"
   ]
  },
  {
   "cell_type": "code",
   "execution_count": 764,
   "metadata": {},
   "outputs": [
    {
     "data": {
      "text/plain": [
       "2"
      ]
     },
     "execution_count": 764,
     "metadata": {},
     "output_type": "execute_result"
    }
   ],
   "source": [
    "pi = Q.argmax(axis=1)\n",
    "\n",
    "pi[S_class2]"
   ]
  },
  {
   "cell_type": "code",
   "execution_count": null,
   "metadata": {},
   "outputs": [],
   "source": []
  },
  {
   "cell_type": "code",
   "execution_count": null,
   "metadata": {},
   "outputs": [],
   "source": [
    "r = np.array([\n",
    "    [ 0,  0,  0,  1],\n",
    "    [ 0, -1, -1, -1],\n",
    "    [ 0,  0,  0,  0],\n",
    "])\n",
    "\n",
    "Q = np.zeros(12, 4)\n",
    "Q = np.zeros(12, 4)\n",
    "\n"
   ]
  }
 ],
 "metadata": {
  "kernelspec": {
   "display_name": "ktai",
   "language": "python",
   "name": "python3"
  },
  "language_info": {
   "codemirror_mode": {
    "name": "ipython",
    "version": 3
   },
   "file_extension": ".py",
   "mimetype": "text/x-python",
   "name": "python",
   "nbconvert_exporter": "python",
   "pygments_lexer": "ipython3",
   "version": "3.8.16"
  }
 },
 "nbformat": 4,
 "nbformat_minor": 2
}
