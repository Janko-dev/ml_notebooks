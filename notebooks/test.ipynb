{
 "cells": [
  {
   "cell_type": "code",
   "execution_count": 1,
   "metadata": {},
   "outputs": [],
   "source": [
    "import numpy as np\n",
    "import matplotlib.pyplot as plt\n",
    "import seaborn as sns"
   ]
  },
  {
   "cell_type": "code",
   "execution_count": 62,
   "metadata": {},
   "outputs": [],
   "source": [
    "import re\n",
    "\n",
    "bow = {}\n",
    "\n",
    "bowb = {}\n",
    "bowm = {}\n",
    "\n",
    "f = open(\"../datasets/_chat.txt\")\n",
    "next(f)\n",
    "for line in f.readlines():\n",
    "    \n",
    "    name = re.match(\"^\\[.+\\] Jan: \", line)\n",
    "\n",
    "    tokens = re.sub(\"\\[.+\\] .+: \", \"\", line)\n",
    "    tokens = re.sub('(\"|\\')', '', tokens)\n",
    "    tokens = re.sub('[^A-Za-z]', ' ', tokens).strip().lower().split()\n",
    "    for tok in tokens:\n",
    "        if len(tok) < 5: continue\n",
    "        if name:\n",
    "            bowb.setdefault(tok, 0)\n",
    "            bowb[tok] += 1\n",
    "        else:\n",
    "            bowm.setdefault(tok, 0)\n",
    "            bowm[tok] += 1\n",
    "\n",
    "        bow.setdefault(tok, 0)\n",
    "        bow[tok] += 1"
   ]
  },
  {
   "cell_type": "code",
   "execution_count": 23,
   "metadata": {},
   "outputs": [
    {
     "data": {
      "text/plain": [
       "[('weggelaten', 2094),\n",
       " ('beetje', 1308),\n",
       " ('gewoon', 1216),\n",
       " ('morgen', 1213),\n",
       " ('afbeelding', 1050),\n",
       " ('trouwens', 1012),\n",
       " ('alleen', 944),\n",
       " ('sticker', 815),\n",
       " ('heeft', 813),\n",
       " ('hahaha', 806),\n",
       " ('helemaal', 753),\n",
       " ('hebben', 745),\n",
       " ('anders', 736),\n",
       " ('kunnen', 735),\n",
       " ('eigenlijk', 678),\n",
       " ('kijken', 666),\n",
       " ('komen', 633),\n",
       " ('vandaag', 631),\n",
       " ('thuis', 624),\n",
       " ('altijd', 617),\n",
       " ('wordt', 604),\n",
       " ('sorry', 598),\n",
       " ('omdat', 593),\n",
       " ('prima', 588),\n",
       " ('inderdaad', 570),\n",
       " ('alles', 559),\n",
       " ('trainen', 546),\n",
       " ('https', 534),\n",
       " ('misschien', 525),\n",
       " ('maken', 524),\n",
       " ('mupke', 522),\n",
       " ('dankjewel', 500),\n",
       " ('dingen', 499),\n",
       " ('lekker', 496),\n",
       " ('slapen', 490),\n",
       " ('weten', 471),\n",
       " ('zeker', 465),\n",
       " ('allemaal', 463),\n",
       " ('precies', 442),\n",
       " ('beter', 422)]"
      ]
     },
     "execution_count": 23,
     "metadata": {},
     "output_type": "execute_result"
    }
   ],
   "source": [
    "sorted(bow.items(), key=lambda x: x[1], reverse=True)[:40]"
   ]
  },
  {
   "cell_type": "code",
   "execution_count": 58,
   "metadata": {},
   "outputs": [],
   "source": [
    "from wordcloud import WordCloud\n",
    "\n",
    "f = open(\"../datasets/_chat.txt\")\n",
    "next(f)\n",
    "data = \"\"\n",
    "for line in f.readlines():\n",
    "    tokens = re.sub(\"\\[.+\\] .+: \", \"\", line)\n",
    "    tokens = re.sub('(\"|\\')', '', tokens)\n",
    "    tokens = ' '.join([token for token in tokens.split() if len(token) >= 5])\n",
    "    data += re.sub('[^A-Za-z]', ' ', tokens).strip().lower()\n"
   ]
  },
  {
   "cell_type": "code",
   "execution_count": null,
   "metadata": {},
   "outputs": [],
   "source": [
    "\n",
    "def get_color(word, *args, **kwargs):\n",
    "    if word in bowb and word in bowm:\n",
    "        return \"blue\" if bowb.get(word) >= bowm[word] else \"pink\"\n",
    "    elif word not in bowb:\n",
    "        return \"pink\"\n",
    "    else:\n",
    "        return \"blue\"\n",
    "\n",
    "\n",
    "wc = WordCloud(width=1600, height=900, max_words=400, scale=2, background_color=\"gray\", color_func=get_color).generate(data)\n",
    "\n",
    "plt.figure(figsize = (40,20))\n",
    "plt.axis(\"off\")\n",
    "plt.imshow(wc)\n"
   ]
  }
 ],
 "metadata": {
  "kernelspec": {
   "display_name": "ktai",
   "language": "python",
   "name": "python3"
  },
  "language_info": {
   "codemirror_mode": {
    "name": "ipython",
    "version": 3
   },
   "file_extension": ".py",
   "mimetype": "text/x-python",
   "name": "python",
   "nbconvert_exporter": "python",
   "pygments_lexer": "ipython3",
   "version": "3.8.16"
  }
 },
 "nbformat": 4,
 "nbformat_minor": 2
}
