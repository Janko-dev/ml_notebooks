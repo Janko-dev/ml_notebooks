{
 "cells": [
  {
   "cell_type": "markdown",
   "metadata": {},
   "source": [
    "# Ensemble Learning"
   ]
  },
  {
   "cell_type": "code",
   "execution_count": 1,
   "metadata": {},
   "outputs": [],
   "source": [
    "import numpy as np\n",
    "import matplotlib.pyplot as plt\n",
    "import seaborn as sns\n",
    "import pandas as pd\n",
    "from matplotlib.colors import ListedColormap\n",
    "cmap = ListedColormap(['red', 'blue'])"
   ]
  },
  {
   "cell_type": "markdown",
   "metadata": {},
   "source": [
    "## Bagging ensemble experiment"
   ]
  },
  {
   "cell_type": "code",
   "execution_count": 2,
   "metadata": {},
   "outputs": [],
   "source": [
    "from sklearn.datasets import load_breast_cancer\n",
    "from sklearn.model_selection import train_test_split\n",
    "\n",
    "dataset = load_breast_cancer()\n",
    "\n",
    "X = dataset.data\n",
    "y = dataset.target\n",
    "\n",
    "X_train, X_test, y_train, y_test = train_test_split(X, y, test_size=0.2, stratify=y)"
   ]
  },
  {
   "cell_type": "markdown",
   "metadata": {},
   "source": [
    "Baseline decision tree accuracy"
   ]
  },
  {
   "cell_type": "code",
   "execution_count": 3,
   "metadata": {},
   "outputs": [
    {
     "data": {
      "text/plain": [
       "0.9210526315789473"
      ]
     },
     "execution_count": 3,
     "metadata": {},
     "output_type": "execute_result"
    }
   ],
   "source": [
    "from sklearn.tree import DecisionTreeClassifier\n",
    "\n",
    "clf = DecisionTreeClassifier().fit(X_train, y_train)\n",
    "clf.score(X_test, y_test)"
   ]
  },
  {
   "cell_type": "markdown",
   "metadata": {},
   "source": [
    "Bagging decision tree class"
   ]
  },
  {
   "cell_type": "code",
   "execution_count": 37,
   "metadata": {},
   "outputs": [],
   "source": [
    "from typing import Literal\n",
    "from sklearn.tree import DecisionTreeClassifier\n",
    "\n",
    "class BaggingDT:\n",
    "    def __init__(self, n_bootstrap_size=32, n_learners=10, strategy: Literal['avg', 'median', 'min', 'max', 'prod'] = 'avg') -> None:\n",
    "        self.n_bootstrap_size = n_bootstrap_size\n",
    "        self.n_learners = n_learners\n",
    "        self.learners = None\n",
    "        self.strategy = strategy\n",
    "\n",
    "    def fit(self, X: np.ndarray, y: np.ndarray):\n",
    "        self.learners = []\n",
    "        bootstrap_indices = [\n",
    "            np.random.choice(X.shape[0], size=self.n_bootstrap_size, replace=True) \n",
    "            for _ in range(self.n_learners)\n",
    "        ]\n",
    "\n",
    "        for idx in bootstrap_indices:\n",
    "            X_sample = X[idx, :]\n",
    "            y_sample = y[idx]\n",
    "            clf = DecisionTreeClassifier().fit(X_sample, y_sample)\n",
    "            self.learners.append(clf)\n",
    "\n",
    "        return self\n",
    "    \n",
    "    def predict_proba(self, X: np.ndarray):\n",
    "        y_preds = np.array([l.predict(X) for l in self.learners])\n",
    "        if self.strategy == 'avg':\n",
    "            return np.sum(y_preds, axis=0) / self.n_learners\n",
    "        elif self.strategy == 'median':\n",
    "            return np.median(y_preds, axis=0)\n",
    "        elif self.strategy == 'min':\n",
    "            return np.min(y_preds, axis=0)\n",
    "        elif self.strategy == 'max':\n",
    "            return np.max(y_preds, axis=0)\n",
    "        elif self.strategy == 'prod':\n",
    "            return np.prod(y_preds, axis=0)\n",
    "\n",
    "    def predict(self, X: np.ndarray):\n",
    "        y_pred = (self.predict_proba(X) > 0.5)*1\n",
    "        return y_pred\n",
    "\n",
    "    def score(self, X: np.ndarray, y: np.ndarray):\n",
    "        y_pred = self.predict(X)\n",
    "        return np.sum(y_pred == y) / y.shape[0]"
   ]
  },
  {
   "cell_type": "code",
   "execution_count": 44,
   "metadata": {},
   "outputs": [
    {
     "data": {
      "text/plain": [
       "0.9824561403508771"
      ]
     },
     "execution_count": 44,
     "metadata": {},
     "output_type": "execute_result"
    }
   ],
   "source": [
    "bdt = BaggingDT(n_bootstrap_size=X_train.shape[0], n_learners=200).fit(X_train, y_train)\n",
    "bdt.score(X_test, y_test)"
   ]
  },
  {
   "cell_type": "code",
   "execution_count": 46,
   "metadata": {},
   "outputs": [
    {
     "name": "stdout",
     "output_type": "stream",
     "text": [
      "avg -- 0.9824561403508771\n",
      "median -- 0.9824561403508771\n",
      "min -- 0.6842105263157895\n",
      "max -- 0.8157894736842105\n",
      "prod -- 0.6754385964912281\n"
     ]
    }
   ],
   "source": [
    "strats = ['avg', 'median', 'min', 'max', 'prod']\n",
    "\n",
    "for strat in strats:\n",
    "    bdt = BaggingDT(n_bootstrap_size=X_train.shape[0], n_learners=200, strategy=strat).fit(X_train, y_train)\n",
    "    acc = bdt.score(X_test, y_test)\n",
    "    print(f\"{strat} -- {acc}\")"
   ]
  },
  {
   "cell_type": "markdown",
   "metadata": {},
   "source": [
    "### Hypothesis testing\n",
    "\n",
    "$H_0: \\mu_{bag} = \\mu_{dt}$\n",
    "\n",
    "$H_1: \\mu_{bag} \\neq \\mu_{dt}$"
   ]
  },
  {
   "cell_type": "code",
   "execution_count": 10,
   "metadata": {},
   "outputs": [],
   "source": [
    "n_reps = 100\n",
    "\n",
    "acc_bagging = []\n",
    "acc_baseline = []\n",
    "\n",
    "for _ in range(n_reps):\n",
    "    clf = DecisionTreeClassifier().fit(X_train, y_train)\n",
    "    acc_baseline.append(clf.score(X_test, y_test))\n",
    "\n",
    "    bdt = BaggingDT(n_bootstrap_size=X_train.shape[0], n_learners=200).fit(X_train, y_train)\n",
    "    acc_bagging.append(bdt.score(X_test, y_test))\n",
    "    \n",
    "acc_bagging = np.array(acc_bagging)\n",
    "acc_baseline = np.array(acc_baseline)"
   ]
  },
  {
   "cell_type": "code",
   "execution_count": 11,
   "metadata": {},
   "outputs": [
    {
     "data": {
      "text/plain": [
       "TtestResult(statistic=2.654251667131275, pvalue=0.009262054070371409, df=99)"
      ]
     },
     "execution_count": 11,
     "metadata": {},
     "output_type": "execute_result"
    }
   ],
   "source": [
    "from scipy.stats import ttest_rel\n",
    "\n",
    "ttest_rel(acc_bagging, acc_baseline)"
   ]
  },
  {
   "cell_type": "markdown",
   "metadata": {},
   "source": [
    "p-value is extremely small, thus we reject $H_0$, and can conclude that with (probably alot more than) 95% certainty, that the mean accuracies are not equal. "
   ]
  },
  {
   "cell_type": "code",
   "execution_count": 12,
   "metadata": {},
   "outputs": [
    {
     "data": {
      "text/plain": [
       "<AxesSubplot: >"
      ]
     },
     "execution_count": 12,
     "metadata": {},
     "output_type": "execute_result"
    },
    {
     "data": {
      "image/png": "[encoded data removed]",
      "text/plain": [
       "<Figure size 640x480 with 1 Axes>"
      ]
     },
     "metadata": {},
     "output_type": "display_data"
    }
   ],
   "source": [
    "sns.lineplot(acc_bagging, alpha=0.6, label='bagging acc')\n",
    "sns.lineplot(acc_baseline, alpha=0.6, label='baseline DT acc')"
   ]
  },
  {
   "cell_type": "markdown",
   "metadata": {},
   "source": [
    "We see that the bagging approach has averaged the model variance quite a bit, while still maintaining the same amount of model bias."
   ]
  },
  {
   "cell_type": "markdown",
   "metadata": {},
   "source": [
    "## Boosting"
   ]
  },
  {
   "cell_type": "markdown",
   "metadata": {},
   "source": [
    "### Naive boosting approach"
   ]
  },
  {
   "cell_type": "code",
   "execution_count": null,
   "metadata": {},
   "outputs": [],
   "source": [
    "# create 3 roughly equal subsets  \n",
    "sub_size = [X_train.shape[0]//3 * x for x in range(3)] + [None]\n",
    "indices = [[x, y] for x, y in zip(np.roll(sub_size, 1), sub_size)][1:]\n",
    "\n",
    "# partition dataset in 3\n",
    "[X1, y1], [X2, y2], [X3, y3] = [[X_train[imin:imax], y_train[imin:imax]] for imin, imax in indices]\n",
    "\n",
    "#### part 1: train d1 with X1\n",
    "d1 = DecisionTreeClassifier().fit(X1, y1)\n",
    "\n",
    "# take X2 and feed it to d1\n",
    "y1_pred = d1.predict(X2)\n",
    "# misclassified instances become new X2\n",
    "X2_d1_mis = X2[y1_pred != y2]\n",
    "y2_d1_mis = y2[y1_pred != y2]\n",
    "\n",
    "#### part 2: train d2 with new X2 \n",
    "d2 = DecisionTreeClassifier().fit(X2_d1_mis, y2_d1_mis)\n",
    " \n",
    "# instances on which d1 and d2 disagree form training set for d3\n",
    "y1_pred = d1.predict(X3)\n",
    "y2_pred = d2.predict(X3)\n",
    "X3_disagree_d12 = X3[y1_pred != y2_pred]\n",
    "y3_disagree_d12 = y3[y1_pred != y2_pred]\n",
    "\n",
    "#### part 3: train d3 with new X3\n",
    "d3 = DecisionTreeClassifier().fit(X3_disagree_d12, y3_disagree_d12)"
   ]
  },
  {
   "cell_type": "code",
   "execution_count": null,
   "metadata": {},
   "outputs": [],
   "source": [
    "### testing: use X_test to predict with d1 and d2\n",
    "y1_pred = d1.predict(X_test)\n",
    "y2_pred = d2.predict(X_test)\n",
    "\n",
    "# which indices correspond to d1 and d2 agree/disagree'ing \n",
    "agree_indices = np.where(y1_pred == y2_pred)\n",
    "disagree_indices = np.where(y1_pred != y2_pred)\n",
    "\n",
    "# get disagreed X_test (the instances that both d1 and d2 could not decide on)\n",
    "X_disagree = X_test[disagree_indices]\n",
    "y3_pred = d3.predict(X_disagree)\n",
    "\n",
    "# new array\n",
    "y_pred = np.zeros((X_test.shape[0], ))\n",
    "# fill array with (y1 == y2) agreed predictions and the predictions of y3 \n",
    "y_pred[agree_indices] = y1_pred[agree_indices]\n",
    "y_pred[disagree_indices] = y3_pred"
   ]
  },
  {
   "cell_type": "code",
   "execution_count": null,
   "metadata": {},
   "outputs": [
    {
     "data": {
      "text/plain": [
       "0.9385964912280702"
      ]
     },
     "execution_count": 199,
     "metadata": {},
     "output_type": "execute_result"
    }
   ],
   "source": [
    "np.sum(y_pred == y_test) / y_pred.shape[0]"
   ]
  },
  {
   "cell_type": "markdown",
   "metadata": {},
   "source": [
    "### Boosting class"
   ]
  },
  {
   "cell_type": "code",
   "execution_count": 23,
   "metadata": {},
   "outputs": [],
   "source": [
    "class BoostingDT:\n",
    "    def __init__(self) -> None:\n",
    "        self.d_clfs = []\n",
    "    \n",
    "    def fit(self, X: np.ndarray, y: np.ndarray):\n",
    "        # create 3 roughly equal subsets  \n",
    "        sub_size = [X.shape[0]//3 * x for x in range(3)] + [None]\n",
    "        indices = [[i, j] for i, j in zip(np.roll(sub_size, 1), sub_size)][1:]\n",
    "\n",
    "        # partition dataset in 3\n",
    "        [X1, y1], [X2, y2], [X3, y3] = [[X[imin:imax], y[imin:imax]] for imin, imax in indices]\n",
    "\n",
    "        #### part 1: train d1 with X1\n",
    "        d1 = DecisionTreeClassifier().fit(X1, y1)\n",
    "\n",
    "        # take X2 and feed it to d1\n",
    "        y1_pred = d1.predict(X2)\n",
    "        # misclassified instances become new X2\n",
    "        X2_d1_mis = X2[y1_pred != y2]\n",
    "        y2_d1_mis = y2[y1_pred != y2]\n",
    "\n",
    "        #### part 2: train d2 with new X2 \n",
    "        d2 = DecisionTreeClassifier().fit(X2_d1_mis, y2_d1_mis)\n",
    "        \n",
    "        # instances on which d1 and d2 disagree form training set for d3\n",
    "        y1_pred = d1.predict(X3)\n",
    "        y2_pred = d2.predict(X3)\n",
    "        X3_disagree_d12 = X3[y1_pred != y2_pred]\n",
    "        y3_disagree_d12 = y3[y1_pred != y2_pred]\n",
    "\n",
    "        #### part 3: train d3 with new X3\n",
    "        d3 = DecisionTreeClassifier().fit(X3_disagree_d12, y3_disagree_d12)\n",
    "\n",
    "        self.d_clfs = [d1, d2, d3]\n",
    "        return self\n",
    "    \n",
    "    def predict(self, X: np.ndarray):\n",
    "        \n",
    "        [d1, d2, d3] = self.d_clfs\n",
    "        ### testing: use X_test to predict with d1 and d2\n",
    "        y1_pred = d1.predict(X)\n",
    "        y2_pred = d2.predict(X)\n",
    "\n",
    "        # which indices correspond to d1 and d2 agree/disagree'ing \n",
    "        agree_indices = np.where(y1_pred == y2_pred)\n",
    "        disagree_indices = np.where(y1_pred != y2_pred)\n",
    "\n",
    "        # get disagreed X_test (the instances that both d1 and d2 could not decide on)\n",
    "        X_disagree = X[disagree_indices]\n",
    "        y3_pred = d3.predict(X_disagree)\n",
    "\n",
    "        # new array\n",
    "        y_pred = np.zeros((X.shape[0], ))\n",
    "        # fill array with (y1 == y2) agreed predictions and the predictions of y3 \n",
    "        y_pred[agree_indices] = y1_pred[agree_indices]\n",
    "        y_pred[disagree_indices] = y3_pred\n",
    "        return y_pred\n",
    "    \n",
    "    def score(self, X: np.ndarray, y: np.ndarray):\n",
    "        y_pred = self.predict(X)\n",
    "        return np.sum(y_pred == y) / y.shape[0]"
   ]
  },
  {
   "cell_type": "code",
   "execution_count": 24,
   "metadata": {},
   "outputs": [
    {
     "data": {
      "text/plain": [
       "0.9473684210526315"
      ]
     },
     "execution_count": 24,
     "metadata": {},
     "output_type": "execute_result"
    }
   ],
   "source": [
    "boost_dt = BoostingDT().fit(X_train, y_train)\n",
    "\n",
    "boost_dt.score(X_test, y_test)"
   ]
  },
  {
   "cell_type": "markdown",
   "metadata": {},
   "source": [
    "## AdaBoost"
   ]
  },
  {
   "cell_type": "code",
   "execution_count": 106,
   "metadata": {},
   "outputs": [
    {
     "name": "stdout",
     "output_type": "stream",
     "text": [
      "0.0963855421686747 0.08791208791208792\n",
      "0.08851674641148326 0.08131868131868132\n",
      "0.09112709832134293 0.08351648351648351\n",
      "0.12068965517241381 0.1076923076923077\n",
      "0.05324074074074074 0.05054945054945055\n",
      "0.338235294117647 0.25274725274725274\n",
      "0.04357798165137614 0.041758241758241756\n",
      "0.21010638297872342 0.17362637362637362\n",
      "0.17268041237113405 0.14725274725274726\n",
      "0.10705596107055962 0.0967032967032967\n",
      "0.22311827956989247 0.1824175824175824\n",
      "0.03174603174603175 0.03076923076923077\n",
      "0.09112709832134293 0.08351648351648351\n",
      "0.03409090909090909 0.03296703296703297\n",
      "0.08333333333333333 0.07692307692307693\n",
      "0.07058823529411765 0.06593406593406594\n",
      "0.02708803611738149 0.026373626373626374\n",
      "0.20689655172413796 0.17142857142857143\n",
      "0.013363028953229397 0.013186813186813187\n",
      "0.08851674641148326 0.08131868131868132\n",
      "0.06557377049180328 0.06153846153846154\n",
      "0.03174603174603175 0.03076923076923077\n",
      "0.35014836795252224 0.25934065934065936\n",
      "0.0963855421686747 0.08791208791208792\n",
      "0.06557377049180328 0.06153846153846154\n",
      "0.14321608040201006 0.12527472527472527\n",
      "0.2005277044854881 0.16703296703296702\n",
      "0.002202643171806167 0.002197802197802198\n",
      "0.05813953488372093 0.054945054945054944\n",
      "0.03409090909090909 0.03296703296703297\n",
      "0.06807511737089202 0.06373626373626373\n",
      "0.07819905213270142 0.07252747252747253\n",
      "0.05324074074074074 0.05054945054945055\n",
      "0.02708803611738149 0.026373626373626374\n",
      "0.12903225806451613 0.11428571428571428\n",
      "0.04357798165137614 0.041758241758241756\n",
      "0.00663716814159292 0.006593406593406593\n",
      "0.024774774774774775 0.024175824175824177\n",
      "0.08591885441527446 0.07912087912087912\n",
      "0.10705596107055962 0.0967032967032967\n",
      "0.024774774774774775 0.024175824175824177\n",
      "0.03644646924829157 0.035164835164835165\n",
      "0.08851674641148326 0.08131868131868132\n",
      "0.020179372197309416 0.01978021978021978\n",
      "0.03174603174603175 0.03076923076923077\n",
      "0.05813953488372093 0.054945054945054944\n",
      "0.00663716814159292 0.006593406593406593\n",
      "0.03174603174603175 0.03076923076923077\n",
      "0.015625 0.015384615384615385\n",
      "0.008869179600886918 0.008791208791208791\n",
      "0.03881278538812785 0.03736263736263736\n",
      "0.013363028953229397 0.013186813186813187\n",
      "0.015625 0.015384615384615385\n",
      "0.013363028953229397 0.013186813186813187\n",
      "0.03644646924829157 0.035164835164835165\n",
      "0.024774774774774775 0.024175824175824177\n",
      "0.020179372197309416 0.01978021978021978\n",
      "0.015625 0.015384615384615385\n",
      "0.011111111111111112 0.01098901098901099\n",
      "0.03174603174603175 0.03076923076923077\n",
      "0.011111111111111112 0.01098901098901099\n",
      "0.015625 0.015384615384615385\n",
      "0.011111111111111112 0.01098901098901099\n",
      "0.06060606060606061 0.05714285714285714\n",
      "0.017897091722595078 0.017582417582417582\n",
      "0.020179372197309416 0.01978021978021978\n",
      "0.017897091722595078 0.017582417582417582\n",
      "0.011111111111111112 0.01098901098901099\n",
      "0.029411764705882353 0.02857142857142857\n",
      "0.015625 0.015384615384615385\n",
      "0.00663716814159292 0.006593406593406593\n",
      "0.02708803611738149 0.026373626373626374\n",
      "0.00663716814159292 0.006593406593406593\n",
      "0.015625 0.015384615384615385\n",
      "0.008869179600886918 0.008791208791208791\n",
      "0.02708803611738149 0.026373626373626374\n",
      "0.008869179600886918 0.008791208791208791\n",
      "0.017897091722595078 0.017582417582417582\n",
      "0.013363028953229397 0.013186813186813187\n",
      "0.008869179600886918 0.008791208791208791\n",
      "0.013363028953229397 0.013186813186813187\n",
      "0.013363028953229397 0.013186813186813187\n",
      "0.004415011037527594 0.004395604395604396\n",
      "0.05080831408775982 0.04835164835164835\n",
      "0.015625 0.015384615384615385\n",
      "0.03644646924829157 0.035164835164835165\n",
      "0.011111111111111112 0.01098901098901099\n",
      "0.011111111111111112 0.01098901098901099\n",
      "0.16368286445012786 0.14065934065934066\n",
      "0.020179372197309416 0.01978021978021978\n",
      "0.015625 0.015384615384615385\n",
      "0.05080831408775982 0.04835164835164835\n",
      "0.020179372197309416 0.01978021978021978\n",
      "0.00663716814159292 0.006593406593406593\n",
      "0.015625 0.015384615384615385\n",
      "0.00663716814159292 0.006593406593406593\n",
      "0.015625 0.015384615384615385\n",
      "0.015625 0.015384615384615385\n",
      "0.011111111111111112 0.01098901098901099\n",
      "0.011111111111111112 0.01098901098901099\n"
     ]
    }
   ],
   "source": [
    "d_clfs = []\n",
    "weights = []\n",
    "\n",
    "ada_X = X_train\n",
    "ada_y = y_train\n",
    "\n",
    "p = np.zeros_like(ada_y, dtype='float64')\n",
    "p.fill(1/ada_y.shape[0])\n",
    "\n",
    "for _ in range(100):\n",
    "    d = DecisionTreeClassifier(max_depth=1, splitter='random').fit(ada_X, ada_y)\n",
    "    y_pred = d.predict(ada_X)\n",
    "    e = np.sum(y_pred != ada_y) / ada_y.shape[0]\n",
    "    if e > 0.5 or e == 0: break\n",
    "\n",
    "    b = e / (1-e)\n",
    "    print(b, e)\n",
    "    d_clfs.append(d)\n",
    "    weights.append(np.log(1/b))\n",
    "    \n",
    "    p = np.where(y_pred != ada_y, b*p, p)\n",
    "    p = p/p.sum()\n",
    "\n",
    "    idx = np.random.choice(ada_y.shape[0], size=ada_y.shape[0], replace=True, p=p)\n",
    "\n",
    "    ada_X = X_train[idx]\n",
    "    ada_y = y_train[idx]\n",
    "\n",
    "weights = np.array(weights) / np.sum(weights)"
   ]
  },
  {
   "cell_type": "code",
   "execution_count": 107,
   "metadata": {},
   "outputs": [
    {
     "data": {
      "text/plain": [
       "(0.9122807017543859, 0.06497694755224633)"
      ]
     },
     "execution_count": 107,
     "metadata": {},
     "output_type": "execute_result"
    }
   ],
   "source": [
    "y_pred = np.array([d.predict(X_test) * w for d, w in zip(d_clfs, weights)])\n",
    "# y_pred = (y_pred.sum(axis=0) > 0.5)*1\n",
    "y_pred = y_pred.sum(axis=0)\n",
    "\n",
    "acc = np.sum((y_pred>0.5)*1 == y_test)/y_test.shape[0]\n",
    "mse = np.sum((y_pred - y_test)**2) / y_test.shape[0]\n",
    "\n",
    "acc, mse"
   ]
  },
  {
   "cell_type": "markdown",
   "metadata": {},
   "source": [
    "### AdaBoost class"
   ]
  },
  {
   "cell_type": "code",
   "execution_count": 130,
   "metadata": {},
   "outputs": [],
   "source": [
    "class AdaBoostDT:\n",
    "    def __init__(self, max_iter=100) -> None:\n",
    "        self.max_iter = max_iter\n",
    "        self.d_clfs = None\n",
    "        self.weights = None\n",
    "    \n",
    "    def fit(self, X: np.ndarray, y: np.ndarray):\n",
    "        self.d_clfs = []\n",
    "        self.weights = []\n",
    "\n",
    "        ada_X = X\n",
    "        ada_y = y\n",
    "\n",
    "        p = np.zeros_like(ada_y, dtype='float64')\n",
    "        p.fill(1/ada_y.shape[0])\n",
    "\n",
    "        for _ in range(self.max_iter):\n",
    "            d = DecisionTreeClassifier(max_depth=2).fit(ada_X, ada_y)\n",
    "            y_pred = d.predict(ada_X)\n",
    "            e = np.sum(y_pred != ada_y) / ada_y.shape[0]\n",
    "            if e > 0.5 or np.isclose(e, 0): break\n",
    "\n",
    "            b = e / (1-e)\n",
    "            self.d_clfs.append(d)\n",
    "            self.weights.append(np.log(1/b))\n",
    "\n",
    "            p = np.where(y_pred != ada_y, b*p, p)\n",
    "            p = p/p.sum()\n",
    "\n",
    "            idx = np.random.choice(ada_y.shape[0], size=ada_y.shape[0], replace=True, p=p)\n",
    "\n",
    "            ada_X = X[idx]\n",
    "            ada_y = y[idx]\n",
    "\n",
    "        self.weights = np.array(self.weights) / np.sum(self.weights)\n",
    "        return self\n",
    "    \n",
    "    def predict(self, X: np.ndarray):\n",
    "        y_pred = np.array([d.predict(X) * w for d, w in zip(self.d_clfs, self.weights)])\n",
    "        y_pred = (y_pred.sum(axis=0) > 0.5)*1\n",
    "        return y_pred\n",
    "        \n",
    "    def predict_proba(self, X: np.ndarray):\n",
    "        y_pred = np.array([d.predict(X) * w for d, w in zip(self.d_clfs, self.weights)])\n",
    "        y_pred = y_pred.sum(axis=0)\n",
    "        return y_pred\n",
    "        \n",
    "    def score(self, X: np.ndarray, y: np.ndarray):\n",
    "        y_pred = self.predict(X)\n",
    "        return np.sum(y_pred == y)/y.shape[0]"
   ]
  },
  {
   "cell_type": "code",
   "execution_count": 160,
   "metadata": {},
   "outputs": [
    {
     "data": {
      "text/plain": [
       "0.9122807017543859"
      ]
     },
     "execution_count": 160,
     "metadata": {},
     "output_type": "execute_result"
    }
   ],
   "source": [
    "ada = AdaBoostDT().fit(X_train, y_train)\n",
    "ada.score(X_test, y_test)"
   ]
  },
  {
   "cell_type": "code",
   "execution_count": 161,
   "metadata": {},
   "outputs": [
    {
     "data": {
      "text/plain": [
       "<AxesSubplot: >"
      ]
     },
     "execution_count": 161,
     "metadata": {},
     "output_type": "execute_result"
    },
    {
     "data": {
      "image/png": "[encoded data removed]",
      "text/plain": [
       "<Figure size 640x480 with 1 Axes>"
      ]
     },
     "metadata": {},
     "output_type": "display_data"
    }
   ],
   "source": [
    "acc_ada = []\n",
    "N = 16\n",
    "ada = AdaBoostDT(max_iter=N).fit(X_train, y_train)\n",
    "\n",
    "for i in range(N):\n",
    "    y_pred = np.array([d.predict(X_test) * w for d, w in zip(ada.d_clfs[:i], ada.weights[:i])])\n",
    "    y_pred = (y_pred.sum(axis=0) > 0.5)*1\n",
    "    acc_ada.append(np.sum(y_pred == y_test)/y_test.shape[0])\n",
    "\n",
    "sns.lineplot(acc_ada)"
   ]
  },
  {
   "cell_type": "code",
   "execution_count": 162,
   "metadata": {},
   "outputs": [
    {
     "data": {
      "text/plain": [
       "[0.3684210526315789,\n",
       " 0.3684210526315789,\n",
       " 0.9122807017543859,\n",
       " 0.9122807017543859,\n",
       " 0.9122807017543859,\n",
       " 0.9122807017543859,\n",
       " 0.9122807017543859,\n",
       " 0.9122807017543859,\n",
       " 0.9122807017543859,\n",
       " 0.9122807017543859,\n",
       " 0.9122807017543859,\n",
       " 0.9122807017543859,\n",
       " 0.9122807017543859,\n",
       " 0.9122807017543859,\n",
       " 0.9122807017543859,\n",
       " 0.9122807017543859]"
      ]
     },
     "execution_count": 162,
     "metadata": {},
     "output_type": "execute_result"
    }
   ],
   "source": [
    "acc_ada"
   ]
  },
  {
   "cell_type": "markdown",
   "metadata": {},
   "source": [
    "## Sklearn ensembles"
   ]
  },
  {
   "cell_type": "code",
   "execution_count": 449,
   "metadata": {},
   "outputs": [
    {
     "name": "stdout",
     "output_type": "stream",
     "text": [
      "BaggingClassifier(base_estimator=DecisionTreeClassifier()) 0.9649122807017544\n",
      "AdaBoostClassifier(base_estimator=DecisionTreeClassifier()) 0.9385964912280702\n",
      "GradientBoostingClassifier() 0.9736842105263158\n",
      "RandomForestClassifier() 0.9824561403508771\n",
      "StackingClassifier(estimators=[('dt', DecisionTreeClassifier()),\n",
      "                               ('svm', SVC())]) 0.956140350877193\n"
     ]
    }
   ],
   "source": [
    "from sklearn.ensemble import BaggingClassifier, AdaBoostClassifier, GradientBoostingClassifier, RandomForestClassifier, StackingClassifier\n",
    "from sklearn.tree import DecisionTreeClassifier\n",
    "from sklearn.svm import SVC\n",
    "\n",
    "est = DecisionTreeClassifier()\n",
    "\n",
    "models = [\n",
    "    BaggingClassifier(est), \n",
    "    AdaBoostClassifier(est), \n",
    "    GradientBoostingClassifier(), \n",
    "    RandomForestClassifier(), \n",
    "    StackingClassifier([('dt', est), ('svm', SVC())])\n",
    "]\n",
    "\n",
    "for model in models:\n",
    "    clf = model.fit(X_train, y_train)\n",
    "    print(model, clf.score(X_test, y_test))\n"
   ]
  },
  {
   "cell_type": "code",
   "execution_count": 69,
   "metadata": {},
   "outputs": [],
   "source": [
    "N = 5\n",
    "d = 3\n",
    "k = 2\n",
    "\n",
    "X = np.random.randn(N, d)\n",
    "W = np.random.randn(d, k)"
   ]
  },
  {
   "cell_type": "code",
   "execution_count": 71,
   "metadata": {},
   "outputs": [
    {
     "data": {
      "text/plain": [
       "array([[-2.90783886, -0.16293061],\n",
       "       [ 1.14661322,  2.82475912],\n",
       "       [-0.15074701,  0.98223565],\n",
       "       [-4.18984657,  0.45515582],\n",
       "       [-0.3242991 , -1.46699468]])"
      ]
     },
     "execution_count": 71,
     "metadata": {},
     "output_type": "execute_result"
    }
   ],
   "source": [
    "X @ W"
   ]
  },
  {
   "cell_type": "code",
   "execution_count": 81,
   "metadata": {},
   "outputs": [
    {
     "data": {
      "text/plain": [
       "array([[-0.09879145, -0.50865815,  0.21541023],\n",
       "       [-0.25959562,  1.72897488,  0.36816165],\n",
       "       [-0.81019826, -0.46547401, -1.00876163],\n",
       "       [ 0.05240213,  0.52285902,  1.59475403],\n",
       "       [ 1.1161832 , -1.27770174, -1.16956428]])"
      ]
     },
     "execution_count": 81,
     "metadata": {},
     "output_type": "execute_result"
    }
   ],
   "source": [
    "X - X.mean(axis=0)"
   ]
  },
  {
   "cell_type": "code",
   "execution_count": 73,
   "metadata": {},
   "outputs": [
    {
     "data": {
      "text/plain": [
       "array([[-2.90783886],\n",
       "       [-0.16293061]])"
      ]
     },
     "execution_count": 73,
     "metadata": {},
     "output_type": "execute_result"
    }
   ],
   "source": [
    "x = X[0, :].reshape(-1, 1)\n",
    "\n",
    "W.T @ x"
   ]
  },
  {
   "cell_type": "code",
   "execution_count": 75,
   "metadata": {},
   "outputs": [
    {
     "data": {
      "text/plain": [
       "array([[-2.90783886,  1.14661322, -0.15074701, -4.18984657, -0.3242991 ],\n",
       "       [-0.16293061,  2.82475912,  0.98223565,  0.45515582, -1.46699468]])"
      ]
     },
     "execution_count": 75,
     "metadata": {},
     "output_type": "execute_result"
    }
   ],
   "source": [
    "W.T @ X.T"
   ]
  }
 ],
 "metadata": {
  "kernelspec": {
   "display_name": "ktai",
   "language": "python",
   "name": "python3"
  },
  "language_info": {
   "codemirror_mode": {
    "name": "ipython",
    "version": 3
   },
   "file_extension": ".py",
   "mimetype": "text/x-python",
   "name": "python",
   "nbconvert_exporter": "python",
   "pygments_lexer": "ipython3",
   "version": "3.8.16"
  }
 },
 "nbformat": 4,
 "nbformat_minor": 2
}
